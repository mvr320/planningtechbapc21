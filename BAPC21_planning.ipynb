{
 "cells": [
  {
   "cell_type": "code",
   "execution_count": 16,
   "metadata": {},
   "outputs": [],
   "source": [
    "import datetime\n",
    "\n",
    "# delta: days weeks\n",
    "\n",
    "prefix = ['coroff','on','normoff']\n",
    "\n",
    "cache = {}\n",
    "dates = {\n",
    "    'all_bapc21': ('date','16-10-2021'),\n",
    "    'coroff_aapp21': ('delta',(0,4), 'all_bapc21'),\n",
    "    'on_aapp21': ('delta',(0,3), 'all_bapc21'),\n",
    "    'normoff_aapp21': ('delta',(0,5), 'all_bapc21'),\n",
    "    'all_website': ('delta',(0,3*4), 'all_bapc21'),\n",
    "    'all_website_test': ('delta',(0,4), 'all_website'),\n",
    "}\n",
    "''',\n",
    "    'aapp21': ('delta',(0,2),'bapc21'),\n",
    "    'gcpc21': ('date','06-06-2021'),\n",
    "    'coroff_bapc21': ('delta',(0,0),'bapc21')\n",
    "    'coroff_bapc21': ('delta',(0,0),'bapc21')\n",
    "    'coroff_bapc21': ('delta',(0,0),'bapc21')\n",
    "    'coroff_domjudge_bapc': ('delta',(0,1),'bapc21'),\n",
    "    'coroff_domjudge_aapp': ('delta',(0,1),'aapp21'),\n",
    "    'coroff_domjudge_gcpc': ('delta',(0,1),'gcpc21'),\n",
    "}\n",
    "website_online': ('delta',(0,4),'gcpc21'),\n",
    "    'website_test': ('delta',(0,4),'website_online'),\n",
    "    'loadbalancer': ('delta',(-4,0),'website'),\n",
    "}'''\n",
    "\n",
    "def lookup(key):\n",
    "    global cache\n",
    "    global dates\n",
    "    assert key in dates.keys()\n",
    "    if key in cache.keys():\n",
    "        return cache[key]\n",
    "    #print(cache)\n",
    "    #print(dates)\n",
    "    #print(dates[key])\n",
    "    #print(dates[key][0])\n",
    "    if dates[key][0]=='date':\n",
    "        cache[key] = datetime.datetime.strptime(dates[key][1], \"%d-%m-%Y\")\n",
    "    elif dates[key][0]=='delta':\n",
    "        d = dates[key][1][0]\n",
    "        w = dates[key][1][1]\n",
    "        diff = datetime.timedelta(days=d,weeks=w)\n",
    "        cache[key] = lookup(dates[key][2])-diff\n",
    "    else:\n",
    "        assert False\n",
    "    return cache[key]\n",
    "\n",
    "tmp = sorted(dates, key=lambda x: lookup(x), reverse=False)\n",
    "#for k in tmp:\n",
    "#    print(datetime.datetime.strftime(cache[k], \"%d-%m-%Y\"),k)"
   ]
  },
  {
   "cell_type": "code",
   "execution_count": 17,
   "metadata": {},
   "outputs": [
    {
     "name": "stdout",
     "output_type": "stream",
     "text": [
      "coroff\n",
      "26-06-2021 all_website_test\n",
      "24-07-2021 all_website\n",
      "18-09-2021 coroff_aapp21\n",
      "16-10-2021 all_bapc21\n",
      "\n",
      "on\n",
      "26-06-2021 all_website_test\n",
      "24-07-2021 all_website\n",
      "25-09-2021 on_aapp21\n",
      "16-10-2021 all_bapc21\n",
      "\n",
      "normoff\n",
      "26-06-2021 all_website_test\n",
      "24-07-2021 all_website\n",
      "11-09-2021 normoff_aapp21\n",
      "16-10-2021 all_bapc21\n",
      "\n"
     ]
    }
   ],
   "source": [
    "for pre in prefix:\n",
    "    print(pre)\n",
    "    for k in tmp:\n",
    "        if pre in k or 'all_' in k:\n",
    "            print(datetime.datetime.strftime(cache[k], \"%d-%m-%Y\"),k)\n",
    "    print()"
   ]
  },
  {
   "cell_type": "code",
   "execution_count": null,
   "metadata": {},
   "outputs": [],
   "source": []
  }
 ],
 "metadata": {
  "kernelspec": {
   "display_name": "Python 3",
   "language": "python",
   "name": "python3"
  },
  "language_info": {
   "codemirror_mode": {
    "name": "ipython",
    "version": 3
   },
   "file_extension": ".py",
   "mimetype": "text/x-python",
   "name": "python",
   "nbconvert_exporter": "python",
   "pygments_lexer": "ipython3",
   "version": "3.7.3"
  }
 },
 "nbformat": 4,
 "nbformat_minor": 2
}
